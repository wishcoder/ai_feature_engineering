{
 "cells": [
  {
   "cell_type": "code",
   "execution_count": 1,
   "id": "04b0190b-f98f-45d1-b42d-403241821792",
   "metadata": {},
   "outputs": [],
   "source": [
    "import numpy as np\n",
    "import pandas as pd\n",
    "from sklearn.model_selection import train_test_split\n",
    "from sklearn.metrics import classification_report\n",
    "import joblib"
   ]
  },
  {
   "cell_type": "code",
   "execution_count": 2,
   "id": "a054271e-f9e8-4bc1-bb2b-55d245f38dc0",
   "metadata": {},
   "outputs": [],
   "source": [
    "from ai_feature_engineering import AI_Feature_Engineering"
   ]
  },
  {
   "cell_type": "code",
   "execution_count": 3,
   "id": "6ff6f4ad-89d0-4f57-ba84-817d9112b67a",
   "metadata": {},
   "outputs": [],
   "source": [
    "dir_path = 'wiki'"
   ]
  },
  {
   "cell_type": "code",
   "execution_count": 4,
   "id": "771988a8-d346-46c9-bfe6-4fbcfa16c6db",
   "metadata": {},
   "outputs": [],
   "source": [
    "ai_fe = AI_Feature_Engineering(dir_path)"
   ]
  },
  {
   "cell_type": "code",
   "execution_count": 12,
   "id": "d2da4ee9-0183-4cc8-b1b0-0a9afa182774",
   "metadata": {},
   "outputs": [
    {
     "name": "stdout",
     "output_type": "stream",
     "text": [
      "------------------\n",
      "Total issues parsed: 8\n",
      "\n",
      "{'issue_id': 'APP001', 'component': 'Application (Java)', 'issue_type': 'Unavailability', 'date_reported': '2024-03-24', 'affected_systems': 'App', 'issue_description': 'Issue Description\\nThe Java Application becomes unresponsive intermittently, leading to significant downtime and affecting end-user experience.', 'possible_causes': ['Network latency between App and Service A.', 'Resource exhaustion on the server hosting the App.', 'Configuration issues within the App itself.'], 'resolution_steps': ['Check Network Latency: Use network monitoring tools to check the latency between App and Service A.', 'Server Resource Check: Monitor CPU, memory, and disk usage on the server hosting the App.', \"Configuration Verification: Review the App's configuration settings for any misconfigurations.\"], 'resolution_outcome': \"Resolution Outcome\\nUpdating the App's configuration to optimize connection pooling resolved the issue.\", 'label': 'Unavailability'}\n",
      "\n",
      "{'issue_id': 'SERV002', 'component': 'Service B (Java)', 'issue_type': 'Change', 'date_reported': '2024-03-25', 'affected_systems': 'Service B', 'issue_description': 'Issue Description\\nService B experiences connectivity issues post-update, leading to data access problems for downstream services.', 'possible_causes': ['Incompatible library versions introduced in the latest update.', 'Misconfigured network settings in Service B.', 'Firewall rules blocking communication between Service A and Service B.'], 'resolution_steps': ['Library Version Check: Ensure that all library versions are compatible across services.', \"Network Configuration: Verify Service B's network settings and ensure they are correctly configured.\", 'Firewall Rules Review: Check if new firewall rules are inadvertently blocking traffic between Service A and Service B.'], 'resolution_outcome': 'Resolution Outcome\\nRolling back to the previous version of Service B and then carefully updating with compatible library versions resolved the issue.', 'label': 'Change'}\n",
      "\n",
      "{'issue_id': 'DB003', 'component': 'Service C (Database)', 'issue_type': 'Unavailability', 'date_reported': '2024-03-26', 'affected_systems': 'Service C', 'issue_description': 'Issue Description\\nService C (Database) shows significant performance degradation, affecting real-time data processing capabilities.', 'possible_causes': ['Unoptimized queries consuming excessive resources.', 'Database nearing storage capacity limits.', 'Hardware issues on the database server.'], 'resolution_steps': ['Query Optimization: Review and optimize slow-running database queries.', 'Storage Check: Ensure the database has sufficient storage available.', \"Hardware Inspection: Check the database server's hardware for potential failures.\"], 'resolution_outcome': 'Resolution Outcome\\nOptimizing several key database queries and archiving old data to free up storage space resolved the performance issues.', 'label': 'Unavailability'}\n",
      "\n",
      "{'issue_id': 'SVA002', 'component': 'Service A (Java)', 'issue_type': 'Change', 'date_reported': '2024-03-25', 'affected_systems': 'Service A', 'issue_description': 'Issue Description\\nService A experiences issues after a recent update, affecting communication with downstream services.', 'possible_causes': ['Compatibility issues with the new update.', 'Incorrect configuration settings applied during the update.'], 'resolution_steps': ['Review Update Logs: Check the update logs for any errors or warnings.', 'Configuration Audit: Verify all configuration settings are correct post-update.', 'Rollback Update: If issues persist, consider rolling back to the previous stable version.'], 'resolution_outcome': 'Resolution Outcome\\nRolling back the recent update and then carefully re-applying it with corrected configurations resolved the issue.', 'label': 'Change'}\n",
      "\n",
      "{'issue_id': 'SVB003', 'component': 'Service B (Java)', 'issue_type': 'Unavailability', 'date_reported': '2024-03-26', 'affected_systems': 'Service B', 'issue_description': 'Issue Description\\nService B is currently not responding, leading to a breakdown in the service chain affecting downstream database access.', 'possible_causes': ['Service B process crash due to memory leaks.', 'Network partitioning preventing access to Service B.'], 'resolution_steps': ['Restart Service B: Attempt to restart the service to recover from any non-persistent issues.', \"Check Logs: Review Service B's logs for errors that occurred just before the unavailability.\", 'Network Diagnostics: Run network diagnostics to ensure there is no partitioning issue.'], 'resolution_outcome': 'Resolution Outcome\\nRestarting Service B and applying a patch to fix the memory leak issue restored its availability.', 'label': 'Unavailability'}\n",
      "\n",
      "{'issue_id': 'FW004', 'component': 'Firewall', 'issue_type': 'Change', 'date_reported': '2024-03-27', 'affected_systems': 'Network Traffic Control', 'issue_description': 'Issue Description\\nRecent changes to the firewall configuration have inadvertently blocked critical traffic, impacting service communication.', 'possible_causes': ['Incorrectly applied firewall rules.', 'Firewall firmware update introducing unexpected behavior.'], 'resolution_steps': ['Review Firewall Configuration: Verify all rules and settings against the intended security policy.', 'Firewall Logs: Check the logs for denied traffic that should be allowed.', 'Test Changes: In a controlled environment, test changes before applying them to production.'], 'resolution_outcome': 'Resolution Outcome\\nReverting the recent firewall rule changes and then carefully reapplying them with the correct configurations resolved the traffic block issue.', 'label': 'Change'}\n",
      "\n",
      "{'issue_id': 'RTR005', 'component': 'Router', 'issue_type': 'Change', 'date_reported': '2024-03-28', 'affected_systems': 'Network Connectivity', 'issue_description': \"Issue Description\\nA recent update to the router's configuration has led to intermittent network connectivity issues, affecting all services relying on network access.\", 'possible_causes': ['Incorrect routing rules applied during the recent configuration change.', 'IP address conflicts introduced by the new configuration.', 'Firewall rules not updated to reflect changes in router configuration.'], 'resolution_steps': [\"Configuration Review: Examine the router's configuration for any incorrect settings or rules.\", 'Network Testing: Perform network connectivity tests to identify specific points of failure.', 'Rollback Configuration: If issues persist, consider rolling back to a previous configuration known to be stable.'], 'resolution_outcome': 'Resolution Outcome\\nReverting to the previous router configuration and then incrementally applying changes with thorough testing at each step resolved the connectivity issues.', 'label': 'Change'}\n",
      "\n",
      "{'issue_id': 'SRV006', 'component': 'Server', 'issue_type': 'Change', 'date_reported': '2024-03-29', 'affected_systems': 'Application Performance', 'issue_description': 'Issue Description\\nFollowing a recent server configuration update, the application hosted on the server has experienced significant performance degradation, impacting user experience.', 'possible_causes': ['Improper memory allocation settings applied during the update.', 'Changes in network configuration leading to increased latency.', 'Security settings updated in a way that inadvertently restricts application functionality.'], 'resolution_steps': [\"Review Configuration Changes: Examine the server's configuration changes to identify any settings that could impact performance.\", 'Performance Monitoring: Utilize server and application monitoring tools to pinpoint the source of the degradation.', 'Configuration Rollback: If necessary, revert the server to its previous configuration to restore performance.'], 'resolution_outcome': 'Resolution Outcome\\nAfter reviewing the recent configuration changes, it was discovered that an incorrect memory allocation setting was the root cause. Adjusting this setting and monitoring application performance confirmed that the issue was resolved.', 'label': 'Change'}\n",
      "\n",
      "------------------\n",
      "\n",
      "Feature Names: ['access' 'address' 'alloc' 'app' 'appli' 'applic' 'behavior' 'block'\n",
      " 'capac' 'chang' 'commun' 'compat' 'configur' 'conflict' 'consum' 'crash'\n",
      " 'databas' 'due' 'excess' 'exhaust' 'firewal' 'firmwar' 'function'\n",
      " 'hardwar' 'host' 'improp' 'inadvert' 'incompat' 'incorrect' 'incorrectli'\n",
      " 'increas' 'introduc' 'ip' 'issu' 'latenc' 'latest' 'lead' 'leak'\n",
      " 'librari' 'limit' 'memori' 'misconfigur' 'near' 'network' 'new' 'partit'\n",
      " 'prevent' 'process' 'queri' 'recent' 'reflect' 'resourc' 'restrict'\n",
      " 'rout' 'router' 'rule' 'secur' 'server' 'servic' 'set' 'storag'\n",
      " 'unexpect' 'unoptim' 'updat' 'version' 'way' 'within']\n",
      "Transformed Feature Matrix:\n",
      " [[0.         0.         0.         0.75100383 0.         0.\n",
      "  0.         0.         0.         0.         0.         0.\n",
      "  0.1587323  0.         0.         0.         0.         0.\n",
      "  0.         0.25033461 0.         0.         0.         0.\n",
      "  0.25033461 0.         0.         0.         0.         0.\n",
      "  0.         0.         0.         0.18104014 0.20979994 0.\n",
      "  0.         0.         0.         0.         0.         0.\n",
      "  0.         0.1587323  0.         0.         0.         0.\n",
      "  0.         0.         0.         0.20979994 0.         0.\n",
      "  0.         0.         0.         0.20979994 0.18104014 0.\n",
      "  0.         0.         0.         0.         0.         0.\n",
      "  0.25033461]\n",
      " [0.         0.         0.         0.         0.         0.\n",
      "  0.         0.26246646 0.         0.         0.26246646 0.\n",
      "  0.         0.         0.         0.         0.         0.\n",
      "  0.         0.         0.1898138  0.         0.         0.\n",
      "  0.         0.         0.         0.26246646 0.         0.\n",
      "  0.         0.1898138  0.         0.         0.         0.26246646\n",
      "  0.         0.         0.26246646 0.         0.         0.26246646\n",
      "  0.         0.16642487 0.         0.         0.         0.\n",
      "  0.         0.         0.         0.         0.         0.\n",
      "  0.         0.1898138  0.         0.         0.5694414  0.1898138\n",
      "  0.         0.         0.         0.14731472 0.26246646 0.\n",
      "  0.        ]\n",
      " [0.         0.         0.         0.         0.         0.\n",
      "  0.         0.         0.25882291 0.         0.         0.\n",
      "  0.         0.         0.25882291 0.         0.51764582 0.\n",
      "  0.25882291 0.         0.         0.         0.         0.25882291\n",
      "  0.         0.         0.         0.         0.         0.\n",
      "  0.         0.         0.         0.18717881 0.         0.\n",
      "  0.         0.         0.         0.25882291 0.         0.\n",
      "  0.25882291 0.         0.         0.         0.         0.\n",
      "  0.25882291 0.         0.         0.2169138  0.         0.\n",
      "  0.         0.         0.         0.2169138  0.         0.\n",
      "  0.25882291 0.         0.25882291 0.         0.         0.\n",
      "  0.        ]\n",
      " [0.         0.         0.         0.         0.27000539 0.\n",
      "  0.         0.         0.         0.         0.         0.42582195\n",
      "  0.27000539 0.         0.         0.         0.         0.\n",
      "  0.         0.         0.         0.         0.         0.\n",
      "  0.         0.         0.         0.         0.35687202 0.\n",
      "  0.         0.         0.         0.30795128 0.         0.\n",
      "  0.         0.         0.         0.         0.         0.\n",
      "  0.         0.         0.35687202 0.         0.         0.\n",
      "  0.         0.         0.         0.         0.         0.\n",
      "  0.         0.         0.         0.         0.         0.30795128\n",
      "  0.         0.         0.         0.47800271 0.         0.\n",
      "  0.        ]\n",
      " [0.31316645 0.         0.         0.         0.         0.\n",
      "  0.         0.         0.         0.         0.         0.\n",
      "  0.         0.         0.         0.31316645 0.         0.31316645\n",
      "  0.         0.         0.         0.         0.         0.\n",
      "  0.         0.         0.         0.         0.         0.\n",
      "  0.         0.         0.         0.         0.         0.\n",
      "  0.         0.31316645 0.         0.         0.26245792 0.\n",
      "  0.         0.19857274 0.         0.31316645 0.31316645 0.31316645\n",
      "  0.         0.         0.         0.         0.         0.\n",
      "  0.         0.         0.         0.         0.45295931 0.\n",
      "  0.         0.         0.         0.         0.         0.\n",
      "  0.        ]\n",
      " [0.         0.         0.         0.         0.22623916 0.\n",
      "  0.35679879 0.         0.         0.         0.         0.\n",
      "  0.         0.         0.         0.         0.         0.\n",
      "  0.         0.         0.51606848 0.35679879 0.         0.\n",
      "  0.         0.         0.         0.         0.         0.35679879\n",
      "  0.         0.25803424 0.         0.         0.         0.\n",
      "  0.         0.         0.         0.         0.         0.\n",
      "  0.         0.         0.         0.         0.         0.\n",
      "  0.         0.         0.         0.         0.         0.\n",
      "  0.         0.25803424 0.         0.         0.         0.\n",
      "  0.         0.35679879 0.         0.20026068 0.         0.\n",
      "  0.        ]\n",
      " [0.         0.2313235  0.         0.         0.14667772 0.\n",
      "  0.         0.         0.         0.38773429 0.         0.\n",
      "  0.44003317 0.2313235  0.         0.         0.         0.\n",
      "  0.         0.         0.16729144 0.         0.         0.\n",
      "  0.         0.         0.         0.         0.19386715 0.\n",
      "  0.         0.16729144 0.2313235  0.         0.         0.\n",
      "  0.         0.         0.         0.         0.         0.\n",
      "  0.         0.         0.19386715 0.         0.         0.\n",
      "  0.         0.2313235  0.2313235  0.         0.         0.2313235\n",
      "  0.2313235  0.33458288 0.         0.         0.         0.\n",
      "  0.         0.         0.         0.12983509 0.         0.\n",
      "  0.        ]\n",
      " [0.         0.         0.24495808 0.         0.15532314 0.24495808\n",
      "  0.         0.         0.         0.20529399 0.         0.\n",
      "  0.15532314 0.         0.         0.         0.         0.\n",
      "  0.         0.         0.         0.         0.24495808 0.\n",
      "  0.         0.24495808 0.24495808 0.         0.         0.\n",
      "  0.24495808 0.         0.         0.         0.20529399 0.\n",
      "  0.24495808 0.         0.         0.         0.20529399 0.\n",
      "  0.         0.15532314 0.         0.         0.         0.\n",
      "  0.         0.         0.         0.         0.24495808 0.\n",
      "  0.         0.         0.24495808 0.         0.         0.35430374\n",
      "  0.         0.         0.         0.27497555 0.         0.24495808\n",
      "  0.        ]]\n"
     ]
    }
   ],
   "source": [
    "issues_info = ai_fe.process_files()\n",
    "print(\"------------------\")\n",
    "print(f\"Total issues parsed: {len(issues_info)}\")\n",
    "print()\n",
    "for issue_info in issues_info:\n",
    "    print(f\"{issue_info}\")\n",
    "    print()\n",
    "print(\"------------------\")\n",
    "print()\n",
    "feature_names, transformed_matrix = ai_fe.feature_engineering(issues_info)\n",
    "print(\"Feature Names:\", feature_names)\n",
    "print(\"Transformed Feature Matrix:\\n\", transformed_matrix)"
   ]
  },
  {
   "cell_type": "code",
   "execution_count": 5,
   "id": "04638e0c-d2f0-4dbc-bcf4-02abdef86156",
   "metadata": {},
   "outputs": [
    {
     "name": "stdout",
     "output_type": "stream",
     "text": [
      "                precision    recall  f1-score   support\n",
      "\n",
      "        Change       0.50      1.00      0.67         1\n",
      "Unavailability       0.00      0.00      0.00         1\n",
      "\n",
      "      accuracy                           0.50         2\n",
      "     macro avg       0.25      0.50      0.33         2\n",
      "  weighted avg       0.25      0.50      0.33         2\n",
      "\n"
     ]
    }
   ],
   "source": [
    "ai_fe.train_and_evaluate_model()"
   ]
  },
  {
   "cell_type": "code",
   "execution_count": 10,
   "id": "fdc0f373-721b-43ff-9f49-3660a64b37a5",
   "metadata": {},
   "outputs": [
    {
     "name": "stdout",
     "output_type": "stream",
     "text": [
      "Predicted impact: ['Change']\n"
     ]
    }
   ],
   "source": [
    " # Description of the latency in Service A\n",
    "change_description = \"Service A latency\"\n",
    "\n",
    "# Prepare the change description for prediction\n",
    "X = ai_fe.prepare_change_description(change_description)\n",
    "\n",
    "# Predict the impact of the change\n",
    "prediction = ai_fe.predict_service_impact(X)\n",
    "\n",
    "# Print or assert the prediction\n",
    "print(f\"Predicted impact: {prediction}\")"
   ]
  },
  {
   "cell_type": "code",
   "execution_count": 11,
   "id": "aa200ca2-2c54-40dd-8b33-81f6b27c56be",
   "metadata": {},
   "outputs": [
    {
     "name": "stdout",
     "output_type": "stream",
     "text": [
      "Predicted impact: ['Change']\n"
     ]
    }
   ],
   "source": [
    "# Description of the change in Service C\n",
    "change_description = \"Service C\"\n",
    "\n",
    "# Prepare the change description for prediction\n",
    "X = ai_fe.prepare_change_description(change_description)\n",
    "\n",
    "# Predict the impact of the change\n",
    "prediction = ai_fe.predict_service_impact(X)\n",
    "\n",
    "# Print or assert the prediction\n",
    "print(f\"Predicted impact: {prediction}\")"
   ]
  },
  {
   "cell_type": "code",
   "execution_count": null,
   "id": "c4aaeab8-3df0-4112-8324-582f901966cb",
   "metadata": {},
   "outputs": [],
   "source": []
  }
 ],
 "metadata": {
  "kernelspec": {
   "display_name": "Python 3 (ipykernel)",
   "language": "python",
   "name": "python3"
  },
  "language_info": {
   "codemirror_mode": {
    "name": "ipython",
    "version": 3
   },
   "file_extension": ".py",
   "mimetype": "text/x-python",
   "name": "python",
   "nbconvert_exporter": "python",
   "pygments_lexer": "ipython3",
   "version": "3.11.0"
  }
 },
 "nbformat": 4,
 "nbformat_minor": 5
}
